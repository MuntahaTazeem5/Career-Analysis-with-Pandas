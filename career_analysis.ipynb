{
  "nbformat": 4,
  "nbformat_minor": 0,
  "metadata": {
    "colab": {
      "provenance": [],
      "authorship_tag": "ABX9TyNHCIEPs3g98gGwLNpwvq52",
      "include_colab_link": true
    },
    "kernelspec": {
      "name": "python3",
      "display_name": "Python 3"
    },
    "language_info": {
      "name": "python"
    }
  },
  "cells": [
    {
      "cell_type": "markdown",
      "metadata": {
        "id": "view-in-github",
        "colab_type": "text"
      },
      "source": [
        "<a href=\"https://colab.research.google.com/github/MuntahaTazeem5/Career-Analysis-with-Pandas/blob/main/career_analysis.ipynb\" target=\"_parent\"><img src=\"https://colab.research.google.com/assets/colab-badge.svg\" alt=\"Open In Colab\"/></a>"
      ]
    },
    {
      "cell_type": "markdown",
      "source": [
        "***Career Analysis with Pandas***\n",
        "\n",
        "**📝 Problem Statement**\n",
        "\n",
        "You are analyzing different career options to compare their salary, education requirements, work-life balance, and growth outlook. The goal is to use Pandas DataFrame to organize the data, perform operations, and extract useful insights for decision-making.\n",
        "\n",
        "**Tasks:**\n",
        "\n",
        "Create DataFrame → 10 careers, 5+ columns.\n",
        "\n",
        "Add Column → Salary_per_EduYear_$ = Salary / Education_Years.\n",
        "\n",
        "Sort → By Average_Salary_$ (descending).\n",
        "\n",
        "Filter → Careers with Growth_Outlook_% > 15 and Work_Life_Balance_10 >= 7."
      ],
      "metadata": {
        "id": "6FTEQI3w6pj2"
      }
    },
    {
      "cell_type": "code",
      "source": [
        "import pandas as pd"
      ],
      "metadata": {
        "id": "XNZsYCGK6-IW"
      },
      "execution_count": 1,
      "outputs": []
    },
    {
      "cell_type": "code",
      "source": [
        "# Step 1: Create Career DataFrame\n",
        "data = {\n",
        "    \"Career\": [\n",
        "        \"Data Scientist\", \"Software Engineer\", \"Doctor\", \"Teacher\", \"Lawyer\",\n",
        "        \"Mechanical Engineer\", \"Graphic Designer\", \"Civil Engineer\",\n",
        "        \"Nurse\", \"Digital Marketer\"\n",
        "    ],\n",
        "    \"Average_Salary_$\": [\n",
        "        120000, 100000, 150000, 55000, 130000,\n",
        "        85000, 60000, 75000, 70000, 65000\n",
        "    ],\n",
        "    \"Education_Years\": [6, 4, 8, 4, 7, 4, 3, 4, 4, 3],\n",
        "    \"Work_Life_Balance_10\": [7, 6, 5, 8, 6, 6, 7, 6, 7, 8],\n",
        "    \"Growth_Outlook_%\": [35, 25, 12, 5, 8, 10, 15, 9, 12, 20]\n",
        "}"
      ],
      "metadata": {
        "id": "e4bxE1Ix8cq7"
      },
      "execution_count": 6,
      "outputs": []
    },
    {
      "cell_type": "code",
      "source": [
        "df = pd.DataFrame(data)\n"
      ],
      "metadata": {
        "id": "tJ9lRmmm_jc0"
      },
      "execution_count": 3,
      "outputs": []
    },
    {
      "cell_type": "code",
      "source": [
        "print(\"📊 Original Career Analysis DataFrame:\")\n",
        "print(df)"
      ],
      "metadata": {
        "colab": {
          "base_uri": "https://localhost:8080/"
        },
        "id": "mqJxk0NY_l_j",
        "outputId": "5d16e1fa-77f0-48a4-a985-e60e85f6d07f"
      },
      "execution_count": 5,
      "outputs": [
        {
          "output_type": "stream",
          "name": "stdout",
          "text": [
            "📊 Original Career Analysis DataFrame:\n",
            "                Career  Average_Salary_$  Education_Years  \\\n",
            "0       Data Scientist            120000                6   \n",
            "1    Software Engineer            100000                4   \n",
            "2               Doctor            150000                8   \n",
            "3              Teacher             55000                4   \n",
            "4               Lawyer            130000                7   \n",
            "5  Mechanical Engineer             85000                4   \n",
            "6     Graphic Designer             60000                3   \n",
            "7       Civil Engineer             75000                4   \n",
            "8                Nurse             70000                4   \n",
            "9     Digital Marketer             65000                3   \n",
            "\n",
            "   Work_Life_Balance_10  Growth_Outlook_%  \n",
            "0                     7                35  \n",
            "1                     6                25  \n",
            "2                     5                12  \n",
            "3                     8                 5  \n",
            "4                     6                 8  \n",
            "5                     6                10  \n",
            "6                     7                15  \n",
            "7                     6                 9  \n",
            "8                     7                12  \n",
            "9                     8                20  \n"
          ]
        }
      ]
    },
    {
      "cell_type": "code",
      "source": [
        " # Step 2: Add new column → Salary per Education Year\n",
        "df[\"Salary_per_EduYear_$\"] = (df[\"Average_Salary_$\"] / df[\"Education_Years\"]).round(2)\n"
      ],
      "metadata": {
        "id": "slo3j60K_u3I"
      },
      "execution_count": 7,
      "outputs": []
    },
    {
      "cell_type": "code",
      "source": [
        "# Step 3: Sort careers by Average Salary\n",
        "df_sorted = df.sort_values(by=\"Average_Salary_$\", ascending=False)\n"
      ],
      "metadata": {
        "id": "xM1vAYDt_pmB"
      },
      "execution_count": 8,
      "outputs": []
    },
    {
      "cell_type": "code",
      "source": [
        "# Step 4: Filter → Careers with Growth Outlook > 15% and Work-Life Balance >= 7\n",
        "filtered_df = df[(df[\"Growth_Outlook_%\"] > 15) & (df[\"Work_Life_Balance_10\"] >= 7)]\n"
      ],
      "metadata": {
        "id": "vleY97kUAINa"
      },
      "execution_count": 9,
      "outputs": []
    },
    {
      "cell_type": "code",
      "source": [
        "print(\"\\n DataFrame with New Column (Salary per Edu Year):\\n\")\n",
        "print(df)"
      ],
      "metadata": {
        "colab": {
          "base_uri": "https://localhost:8080/"
        },
        "id": "sYpd5rLcAK9h",
        "outputId": "5ce58c46-6e44-4454-fc61-2b88c30934aa"
      },
      "execution_count": 14,
      "outputs": [
        {
          "output_type": "stream",
          "name": "stdout",
          "text": [
            "\n",
            " DataFrame with New Column (Salary per Edu Year):\n",
            "\n",
            "                Career  Average_Salary_$  Education_Years  \\\n",
            "0       Data Scientist            120000                6   \n",
            "1    Software Engineer            100000                4   \n",
            "2               Doctor            150000                8   \n",
            "3              Teacher             55000                4   \n",
            "4               Lawyer            130000                7   \n",
            "5  Mechanical Engineer             85000                4   \n",
            "6     Graphic Designer             60000                3   \n",
            "7       Civil Engineer             75000                4   \n",
            "8                Nurse             70000                4   \n",
            "9     Digital Marketer             65000                3   \n",
            "\n",
            "   Work_Life_Balance_10  Growth_Outlook_%  Salary_per_EduYear_$  \n",
            "0                     7                35              20000.00  \n",
            "1                     6                25              25000.00  \n",
            "2                     5                12              18750.00  \n",
            "3                     8                 5              13750.00  \n",
            "4                     6                 8              18571.43  \n",
            "5                     6                10              21250.00  \n",
            "6                     7                15              20000.00  \n",
            "7                     6                 9              18750.00  \n",
            "8                     7                12              17500.00  \n",
            "9                     8                20              21666.67  \n"
          ]
        }
      ]
    },
    {
      "cell_type": "code",
      "source": [
        "print(\"\\n Sorted by Average Salary (Top First):\\n\")\n",
        "print(df_sorted[[\"Career\", \"Average_Salary_$\"]])\n"
      ],
      "metadata": {
        "colab": {
          "base_uri": "https://localhost:8080/"
        },
        "id": "lWbBSizyAO19",
        "outputId": "99160081-323b-4ae4-feaf-27086ff1aded"
      },
      "execution_count": 13,
      "outputs": [
        {
          "output_type": "stream",
          "name": "stdout",
          "text": [
            "\n",
            " Sorted by Average Salary (Top First):\n",
            "\n",
            "                Career  Average_Salary_$\n",
            "2               Doctor            150000\n",
            "4               Lawyer            130000\n",
            "0       Data Scientist            120000\n",
            "1    Software Engineer            100000\n",
            "5  Mechanical Engineer             85000\n",
            "7       Civil Engineer             75000\n",
            "8                Nurse             70000\n",
            "9     Digital Marketer             65000\n",
            "6     Graphic Designer             60000\n",
            "3              Teacher             55000\n"
          ]
        }
      ]
    },
    {
      "cell_type": "code",
      "source": [
        "print(\"\\n Filter: Careers with High Growth (>15%) and Good Work-Life Balance (>=7):\\n\")\n",
        "print(filtered_df[[\"Career\", \"Growth_Outlook_%\", \"Work_Life_Balance_10\"]])\n"
      ],
      "metadata": {
        "colab": {
          "base_uri": "https://localhost:8080/"
        },
        "id": "iVDXcFjXAWUn",
        "outputId": "0c611840-b49a-44db-f6ec-923721d9ad01"
      },
      "execution_count": 12,
      "outputs": [
        {
          "output_type": "stream",
          "name": "stdout",
          "text": [
            "\n",
            " Filter: Careers with High Growth (>15%) and Good Work-Life Balance (>=7):\n",
            "\n",
            "             Career  Growth_Outlook_%  Work_Life_Balance_10\n",
            "0    Data Scientist                35                     7\n",
            "9  Digital Marketer                20                     8\n"
          ]
        }
      ]
    },
    {
      "cell_type": "code",
      "source": [],
      "metadata": {
        "id": "uL3OWxvlAd5I"
      },
      "execution_count": null,
      "outputs": []
    }
  ]
}